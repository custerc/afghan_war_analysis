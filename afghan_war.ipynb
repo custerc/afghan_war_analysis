{
 "cells": [
  {
   "cell_type": "markdown",
   "metadata": {},
   "source": [
    "I came across [this article](https://projects.propublica.org/graphics/afghan) by ProPublica but found the interface a little tiresome, so I decided to download the dataset ([here](https://www.propublica.org/datastore/dataset/propublicas-afghan-waste-data)) and do a little of my own analysis on how much money was wasted specifically only on the most _clearly_ wasteful and unsustainable projects (those they term \"wasteful\" or \"budget buster\")."
   ]
  },
  {
   "cell_type": "code",
   "execution_count": 10,
   "metadata": {},
   "outputs": [
    {
     "name": "stdout",
     "output_type": "stream",
     "text": [
      "[['Spending', 'ID', 'Item', 'Category Code', 'Category', 'Category Alternate', 'Description', 'For What', 'What', 'Dollar Amount', 'Duplicate', 'report_type', 'report', 'Date', 'Source', 'agency', 'Source Extra']]\n"
     ]
    }
   ],
   "source": [
    "from csv import reader\n",
    "\n",
    "f = open('C:/Users/custerc/Desktop/data/afghan_waste_data.csv')\n",
    "rf = reader(f)\n",
    "data = list(rf)\n",
    "\n",
    "print(data[:1])"
   ]
  },
  {
   "cell_type": "markdown",
   "metadata": {},
   "source": [
    "Now we'll separate out only the spending items on those two categories."
   ]
  },
  {
   "cell_type": "code",
   "execution_count": 9,
   "metadata": {},
   "outputs": [
    {
     "name": "stdout",
     "output_type": "stream",
     "text": [
      "Data length: 133\n",
      "Wasteful length: 44\n"
     ]
    }
   ],
   "source": [
    "wasteful = []\n",
    "\n",
    "for row in data[1:]:\n",
    "    code = row[3]\n",
    "    if code == 'U' or code == 'W':\n",
    "        wasteful.append(row)\n",
    "        \n",
    "print('Data length: ' + str(len(data)))\n",
    "print('Wasteful length: ' + str(len(wasteful)))"
   ]
  },
  {
   "cell_type": "markdown",
   "metadata": {},
   "source": [
    "Now that we've got our data separated, let's figure out how much was a _total_ waste."
   ]
  },
  {
   "cell_type": "code",
   "execution_count": 12,
   "metadata": {},
   "outputs": [
    {
     "name": "stdout",
     "output_type": "stream",
     "text": [
      "The utter waste total is $3,133,190,125.\n"
     ]
    }
   ],
   "source": [
    "total_spent = 0\n",
    "for row in wasteful:\n",
    "    spent = int(row[9])\n",
    "    total_spent += spent\n",
    "    \n",
    "total_cost = \"The utter waste total is ${:,}.\".format(total_spent)\n",
    "    \n",
    "print(total_cost)\n",
    "    "
   ]
  },
  {
   "cell_type": "markdown",
   "metadata": {},
   "source": [
    "That's a whole lot of waste. For that money, according to the ProPublica page, we could have funded a whole boatload of education and health programs in the US. "
   ]
  },
  {
   "cell_type": "code",
   "execution_count": null,
   "metadata": {},
   "outputs": [],
   "source": []
  }
 ],
 "metadata": {
  "kernelspec": {
   "display_name": "Python 3",
   "language": "python",
   "name": "python3"
  },
  "language_info": {
   "codemirror_mode": {
    "name": "ipython",
    "version": 3
   },
   "file_extension": ".py",
   "mimetype": "text/x-python",
   "name": "python",
   "nbconvert_exporter": "python",
   "pygments_lexer": "ipython3",
   "version": "3.7.1"
  }
 },
 "nbformat": 4,
 "nbformat_minor": 2
}
